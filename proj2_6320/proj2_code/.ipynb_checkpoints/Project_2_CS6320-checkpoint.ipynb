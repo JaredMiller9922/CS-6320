{
 "cells": [
  {
   "cell_type": "markdown",
   "metadata": {},
   "source": [
    "# CS 6320 Project 2: Detecting Lines and Circles using Hough Transform\n",
    "\n",
    "A notebook contains many blocks of code, each of which can be run independently. You can run a cell with ctrl+enter or shift+enter (to move to the next cell).\n",
    "\n",
    "\n",
    "You are expected to complete this notebook with lines of code, plots and texts. You will need to create new cells with original code or text for your analyses and explanations. Explain what you do and analyze your results. This assignment has a total of 100 points."
   ]
  },
  {
   "cell_type": "markdown",
   "metadata": {},
   "source": [
    "## Brief\n",
    "    Hand-in: through Gradescope\n",
    "    Required files: <your_uid>.zip.(Please begin with 'u' for your uid)\n",
    "<!---<your_uid>_proj1.pdf--> \n",
    "\n",
    "\n",
    "## Setup\n",
    "\n",
    "   0. Unzip proj2_6320.zip and go to proj2_6320 directory.\n",
    "      - You can run `unzip proj2_6320.zip && cd proj2_6320` in your terminal.\n",
    "   1. Install [Miniconda](https://docs.conda.io/en/latest/miniconda.html). It doesn’t matter whether you use Python 2 or 3 because we will create our own environment that uses 3 anyways.\n",
    "   2. Create a conda environment using the appropriate command. On Windows, open the installed “Conda prompt” to run the command. On MacOS and Linux, you can just use a terminal window to run the command, Modify the command based on your OS (linux, mac, or win): `conda env create -f proj2_env.yml`.\n",
    "    - NOTE that proj2_env.yml is inside the project folder.\n",
    "   3. This should create an environment named ‘proj2’. Activate it using the Windows command, activate proj2 or the MacOS / Linux command, source activate proj2\n",
    "   4. Run the notebook using `jupyter notebook` under *proj2_6320* directory.\n",
    "   5. Ensure that all sanity checks are passing by running pytest tests inside the repo folder.\n",
    "   6. Generate the zip folder for the code portion of your submission once you’ve finished the project using \n",
    "    \n",
    "        `python zip_submission.py --uid <your_uid>` \n",
    "\n",
    "\n",
    "## Library Functions\n",
    "Do not use any library functions that implement Hough Transform in your solution. You can use functions to perform fitlering etc.\n",
    "\n",
    "## Debugging\n",
    "We have included several synthetic images of lines and circles to help test your methods in simpler domains if you'd like.\n",
    "\n",
    "## Writeup\n",
    "For this project, this notebook itself is the report. You must run all your cells before you hand in it. You code, results, visualization, and discussion will be used for the grading. You will be deducted points if the results are not shown in this notebook. Do not change the order of the cells. You can add cells in need. You can copy a cell and run it seperately if you need to run a cell multiple times and thus every result is displayed in the cell.\n",
    "\n",
    "\n",
    "## Rubric\n",
    "    +26 pts: Ques_1\n",
    "    +12 pts: Ques_2\n",
    "    +15 pts: Ques_3\n",
    "    +17 pts: Ques_4\n",
    "    +15 pts: Ques_5\n",
    "    +15 pts: Ques_6\n",
    "\n",
    "    Distribution of the points in a Question is separately mentioned for each sub-task\n",
    "\n",
    "    -5*n pts: Lose 5 points for every time you do not follow the instructions for the hand-in format.\n",
    "    \n",
    "Submission Format\n",
    "\n",
    "This is very important as you will lose 5 points for every time you do not follow the instructions. You will attach two items in your submission on Canvas:\n",
    "\n",
    "1. <your_uid>.zip containing:\n",
    "    - proj2_code/ - directory containing all your code for this assignment\n",
    "    - data/       - directory containing all the input images\n",
    "    - results/    - directory containing all your output images\n",
    "\n",
    "Do not install any additional packages inside the conda environment. The TAs will use the same environment as defined in the config files we provide you, so anything that’s not in there by default will probably cause your code to break during grading. Do not use absolute paths in your code or your code will break. Use relative paths like the starter code already does. Failure to follow any of these instructions will lead to point deductions. Create the zip file using python zip_submission.py --uid <your_uid> (it will zip up the appropriate directories/files for you!)\n",
    "\n",
    "**Note:**: Make sure all the images saved in the results directory are plotted in your Jupyter notebook."
   ]
  },
  {
   "cell_type": "code",
   "execution_count": null,
   "metadata": {},
   "outputs": [],
   "source": [
    "import numpy as np\n",
    "import cv2 as cv\n",
    "import matplotlib\n",
    "import matplotlib.pyplot as plt\n",
    "import math"
   ]
  },
  {
   "cell_type": "markdown",
   "metadata": {},
   "source": [
    "### 1 Processing an image to detect lines using Hough Transform (26 points)\n",
    "\n",
    "In this question, we process an image and apply Hough Transform on the processed image\n",
    "\n",
    "#### Tasks:\n",
    "1. Compute a smooth version of the Input Image <b>(4 points)</b>\n",
    "2. Detect edges from Images <b>(6 points)</b>\n",
    "3. Implement Hough Transform <b>(8 points)</b>\n",
    "4. Apply Hough Transform to detect lines from images <b>(4 points)</b>\n",
    "5. Apply Hough Transform to detect edges from images <b>(4 points)</b>"
   ]
  },
  {
   "cell_type": "markdown",
   "metadata": {},
   "source": [
    "#### 1.1 Compute a smooth version of the Input Image\n",
    "\n",
    "##### You should use a Gaussian filter to generate a smooth image \n",
    "\n",
    "##### Please note:\n",
    "The function takes in as input only the sigma value (integer only).<br>\n",
    "The size of the filter should be computed using the sigma value"
   ]
  },
  {
   "cell_type": "code",
   "execution_count": null,
   "metadata": {},
   "outputs": [],
   "source": [
    "def Gaussian_Filter(sigma):\n",
    "    '''\n",
    "    The function takes as input only the sigma (integer)\n",
    "    and generates a Gaussian filter using this sigma value.\n",
    "    The size of the filter should be computed using the sigma value.\n",
    "    '''\n",
    "\n",
    "    ############################\n",
    "    ### TODO: Your Implementation\n",
    "    raise NotImplementedError(\"Gaussian_Filter() function needs to be implemented.\")\n",
    "    ### END OF STUDENT CODE ####\n",
    "    ############################"
   ]
  },
  {
   "cell_type": "code",
   "execution_count": null,
   "metadata": {},
   "outputs": [],
   "source": [
    "# Reading the Input Image\n",
    "img = cv.imread('../data/proj2-clean-image.jpg')\n",
    "\n",
    "# Generates the Gaussian Filter\n",
    "g_kernel = Gaussian_Filter(2)\n",
    "\n",
    "# Smoothing the image with the Gaussian Filter\n",
    "smooth_img = cv.filter2D(img, -1, g_kernel)\n",
    "\n",
    "# Saves the smoothed image in the result directory\n",
    "cv.imwrite(\"../results/Ques_1/proj2-clean-image-smoothed.png\", smooth_img)\n",
    "\n",
    "# Plots the smoothed image in the notebook (convert BGR to RGB for correct colors)\n",
    "plt.figure()\n",
    "plt.imshow(cv.cvtColor(smooth_img, cv.COLOR_BGR2RGB))\n",
    "plt.axis('off')"
   ]
  },
  {
   "cell_type": "code",
   "execution_count": null,
   "metadata": {},
   "outputs": [],
   "source": [
    "def rgb2gray(rgb):\n",
    "    '''\n",
    "    Converts an RGB image to Grayscale.\n",
    "    \n",
    "    Args:\n",
    "        rgb : np.ndarray\n",
    "            Input image of shape (H, W, 3) in RGB format.\n",
    "    \n",
    "    Returns:\n",
    "        gray : np.ndarray\n",
    "            Grayscale image of shape (H, W).\n",
    "    '''\n",
    "    # NOTE: Input must be in RGB format (convert with cv.cvtColor if using cv.imread).\n",
    "    return np.dot(rgb[..., :3], [0.299, 0.587, 0.114])"
   ]
  },
  {
   "cell_type": "code",
   "execution_count": null,
   "metadata": {},
   "outputs": [],
   "source": [
    "def image_uint(input_arr):\n",
    "    '''\n",
    "    Scales the image intensity values to the range [0, 255].\n",
    "\n",
    "    Args:\n",
    "        input_arr : np.ndarray\n",
    "            Input image (any numeric dtype).\n",
    "\n",
    "    Returns:\n",
    "        np.ndarray\n",
    "            Image scaled to uint8 with values in [0, 255].\n",
    "    '''\n",
    "    min_val, max_val = np.min(input_arr), np.max(input_arr)\n",
    "    if max_val == min_val:\n",
    "        return np.zeros_like(input_arr, dtype=np.uint8)\n",
    "    scaled = 255.0 * (input_arr - min_val) / (max_val - min_val)\n",
    "    return scaled.astype(np.uint8)"
   ]
  },
  {
   "cell_type": "markdown",
   "metadata": {},
   "source": [
    "#### 1.2 Edge Detector\n",
    "Now we need to extract the edges from the input images. This is as essential step towards detection of lines and circles from the image.\n",
    "\n",
    "#### You should define a Sobel filter to detect edges in the Original and Smooth Image\n",
    "Following the definition of the filter, you convolve the filter over the input image using OpenCV library function, <b>filter2D()</b>. You are not required to write any convolution function to apply the filter.\n",
    "\n",
    "You are required to detect edges on both the <b>original</b> and <b>smooth</b> images.\n",
    "\n",
    "<b>Do you observe any difference between them? Please comment in a separate cell.</b>"
   ]
  },
  {
   "cell_type": "markdown",
   "metadata": {},
   "source": [
    "#### 1.2.1 Edge Detector on the Original Image\n",
    "Please remember the edge detection method should be applied on <b>gray images</b>.\n",
    "The edge image should be saved as <b>img_gray_edge</b>."
   ]
  },
  {
   "cell_type": "code",
   "execution_count": null,
   "metadata": {},
   "outputs": [],
   "source": [
    "def detect_edges_with_sobel(image):\n",
    "    '''\n",
    "    Detects edges in a grayscale image using Sobel filters.\n",
    "\n",
    "    Input:\n",
    "        image : np.ndarray\n",
    "            Grayscale image on which edges are to be detected.\n",
    "\n",
    "    Output:\n",
    "        img_gray_edge : np.ndarray\n",
    "            Image with detected edges.\n",
    "\n",
    "    Description:\n",
    "        1. Convolve the input image with the Sobel_x filter and Sobel_y filter separately.\n",
    "        2. Compute the gradient magnitude from the x and y gradients.\n",
    "    '''\n",
    "    ############################\n",
    "    ### TODO: Your Implementation ###\n",
    "    raise NotImplementedError(\"detect_edges_with_sobel() function needs to be implemented.\")\n",
    "    ############################\n",
    "    ### Your Implementation ENDS here ###\n",
    "    ############################\n",
    "\n",
    "    return img_gray_edge\n",
    "\n",
    "\n",
    "# Save the Image\n",
    "cv.imwrite('../results/Ques_1/Ori_Clean_Edge_Image.png', img_gray_edge)\n",
    "\n",
    "# Plot the Image\n",
    "plt.figure()\n",
    "plt.imshow(img_gray_edge.astype(np.uint8), cmap='gray')\n",
    "plt.axis('off')"
   ]
  },
  {
   "cell_type": "markdown",
   "metadata": {},
   "source": [
    "#### 1.2.2 Edge Detector on the Smooth Image\n",
    "Please remember the edge detection method should be applied on <b>gray images</b>.\n",
    "The edge image should be saved as <b>smooth_img_gray_edge</b>."
   ]
  },
  {
   "cell_type": "code",
   "execution_count": null,
   "metadata": {},
   "outputs": [],
   "source": [
    "############################\n",
    "### TODO: Your Implementation ###\n",
    "raise NotImplementedError(\"Edge detection on the smoothed image needs to be implemented.\")\n",
    "############################\n",
    "### Your Implementation ENDS here ###\n",
    "############################\n",
    "\n",
    "# Save the Image\n",
    "cv.imwrite('../results/Ques_1/Smooth_Clean_Edge_Image.png', smooth_img_gray_edge)\n",
    "\n",
    "# Plot the Image\n",
    "plt.figure()\n",
    "plt.imshow(smooth_img_gray_edge.astype(np.uint8), cmap='gray')\n",
    "plt.axis('off')"
   ]
  },
  {
   "cell_type": "markdown",
   "metadata": {},
   "source": [
    "#### 1.3 Hough Transform to detect Lines\n",
    "In this exercise you are expected to implement Hough Transform for line detection as discussed in class. Hough Transform uses an accumulator array to capture the lines present in image. It is applied on binary images which can be generated by thresholding the edge detector output.<br>\n",
    "\n",
    "For this exercise, the range of theta is <b>[-90, 90]</b> and the range of rho is <b>[-img_diag, img_diag]</b>.<br>\n",
    "\n",
    "For example:<br>\n",
    "If theta_res = <b>1</b>, we consider the lines at angle <b>-90, -89, -88, ...., 89</b>.<br>\n",
    "If rho_res = <b>1</b>, we consider the distances at <b>-img_diag, -img_diag + 1, ..., img_diag - 1</b>."
   ]
  },
  {
   "cell_type": "code",
   "execution_count": null,
   "metadata": {},
   "outputs": [],
   "source": [
    "def hough_transform(input_img, threshold, theta_res, rho_res):\n",
    "    '''\n",
    "    This function computes the Hough Transform accumulator array for line detection.\n",
    "\n",
    "    Input:\n",
    "        input_img : np.ndarray\n",
    "            Output of the Edge Detection method (grayscale).\n",
    "        threshold : int or float\n",
    "            Threshold value for generating the binary edge image.\n",
    "        theta_res : int\n",
    "            Resolution (step size) for angle θ, in degrees.\n",
    "        rho_res : int\n",
    "            Resolution (step size) for perpendicular distance ρ from the origin.\n",
    "\n",
    "    Output:\n",
    "        accumulator : np.ndarray\n",
    "            The Hough accumulator array.\n",
    "        thetas : np.ndarray\n",
    "            Array of θ values used in the transform.\n",
    "        rhos : np.ndarray\n",
    "            Array of ρ values used in the transform.\n",
    "        binary_img : np.ndarray\n",
    "            Thresholded binary edge image.\n",
    "    '''\n",
    "    ############################\n",
    "    ### TODO: Your Implementation ###\n",
    "    raise NotImplementedError(\"hough_transform() function needs to be implemented.\")\n",
    "    ############################\n",
    "    ### Your Implementation ENDS here ###\n",
    "    ############################\n",
    "\n",
    "    return accumulator, thetas, rhos, binary_img"
   ]
  },
  {
   "cell_type": "markdown",
   "metadata": {},
   "source": [
    "#### 1.3.1 Hough Transform to detect Lines from Original Image\n",
    "\n",
    "Use the edges detected from the <b>original input image</b> to apply Hough Transform function.<br>\n",
    "<br>\n",
    "\n",
    "You need to find a resaonable estimate of the threshold for generating the binary image which is good enough for the Hough transform to extract lines. Please discuss the effect of the threshold on the performance of the algorithm.\n",
    "\n",
    "Plot the Accumulator Array using the matplotlib function, figure size (20, 20), with proper labeling and title. The image should be saved as <b>Ori_Clean_Image_Accumulator_Array.png</b> in results/Ques_1 sub-directory.\n",
    "\n",
    "**Note:** If the aspect ratio of the Accumulator Array plot appears skewed, you can adjust it for better visualization by using `interpolation='none'` and `aspect='auto'` with `plt.imshow`. For example: `plt.imshow(image, interpolation='none', aspect='auto')`. This ensures the pixels are displayed without interpolation and the aspect ratio is automatically adjusted to fit the plot area.\n"
   ]
  },
  {
   "cell_type": "code",
   "execution_count": null,
   "metadata": {},
   "outputs": [],
   "source": [
    "# Invoke the Hough Transform Method to Extract the Lines from the Image\n",
    "# You need to find a reasonable estimate of the threshold for generating a binary image\n",
    "# which is good enough for the Hough Transform to extract the lines.\n",
    "# To expedite the process you can play with the resolution of theta and rho\n",
    "# without compromising the quality of the results.\n",
    "\n",
    "ori_accumulator, ori_thetas, ori_rhos, ori_binary_img = hough_transform(\n",
    "    img_gray_edge,   # input from edge detector on original image\n",
    "    threshold=100,   # example value, students should tune\n",
    "    theta_res=1,\n",
    "    rho_res=1\n",
    ")\n",
    "\n",
    "# Save the Thresholded Binary Image\n",
    "cv.imwrite('../results/Ques_1/Ori_Clean_Binary_Image.png', ori_binary_img)\n",
    "\n",
    "# Plot the Binary Image\n",
    "plt.figure()\n",
    "plt.imshow(ori_binary_img.astype(np.uint8), cmap='gray')\n",
    "plt.title('Binary Image')\n",
    "plt.axis('off')\n",
    "\n",
    "# Plot Accumulator Array\n",
    "############################\n",
    "raise NotImplementedError(\"Accumulator array visualization needs to be implemented.\")\n",
    "############################\n",
    "### Your Implementation ENDS here ###\n",
    "############################"
   ]
  },
  {
   "cell_type": "markdown",
   "metadata": {},
   "source": [
    "For plotting lines (infinite) in the images, you should use the OpenCV <b>line</b> function which can hold all the lines and then you could overlay them on the input image.\n",
    "\n",
    "**Hint:**\n",
    "    To draw the infinite lines using OpenCV’s `line` function, you need to provide the start and end points for each line. The intersection points between the lines and the image boundary (edges of the image) can be used as start and end points. A common approach is to compute the x and y coordinates for these intersection points by solving for `x` and `y` in terms of `rho` and `theta` (from the Hough space). Once you have these coordinates, you can pass them to the OpenCV `line` function to overlay the lines on the input image."
   ]
  },
  {
   "cell_type": "code",
   "execution_count": null,
   "metadata": {},
   "outputs": [],
   "source": [
    "def plot_lines(img_path, accumulator, thetas, rhos, acc_threshold, save_path):\n",
    "    '''\n",
    "    This function plots infinite lines detected by the Hough Transform.\n",
    "\n",
    "    Input:\n",
    "        img_path : str\n",
    "            Path to the RGB image on which lines will be drawn.\n",
    "        accumulator : np.ndarray\n",
    "            Hough accumulator array.\n",
    "        thetas : np.ndarray\n",
    "            Vector of angle values.\n",
    "        rhos : np.ndarray\n",
    "            Vector of rho values (perpendicular distances).\n",
    "        acc_threshold : int\n",
    "            Threshold value for selecting lines from the accumulator.\n",
    "        save_path : str\n",
    "            Path to save the output image with lines drawn.\n",
    "\n",
    "    Output:\n",
    "        None\n",
    "        The function saves the output image (with lines drawn) to save_path.\n",
    "    '''\n",
    "    ############################\n",
    "    ### TODO: Your Implementation ###\n",
    "    raise NotImplementedError(\"plot_lines() function needs to be implemented.\")\n",
    "    ############################\n",
    "    ### Your Implementation ENDS here ###\n",
    "    ############################"
   ]
  },
  {
   "cell_type": "code",
   "execution_count": null,
   "metadata": {},
   "outputs": [],
   "source": [
    "# Plot the lines extracted on the Original Image\n",
    "# Adjust the accumulator threshold to filter out weak or unwanted lines\n",
    "acc_threshold = 100   # Example value, students should tune this\n",
    "\n",
    "plot_lines(\n",
    "    img_path='../data/proj2-clean-image.jpg',\n",
    "    accumulator=ori_accumulator,\n",
    "    thetas=ori_thetas,\n",
    "    rhos=ori_rhos,\n",
    "    acc_threshold=acc_threshold,\n",
    "    save_path='../results/Ques_1/Ori_Clean_Image_Output_Lines.png'\n",
    ")"
   ]
  },
  {
   "cell_type": "markdown",
   "metadata": {},
   "source": [
    "#### 1.3.2 Hough Transform to detect Lines from the Smooth Image\n",
    "\n",
    "Use the edges detected from the <b>smooth input image</b> to apply Hough Transform function.<br>\n",
    "<br>\n",
    "\n",
    "You need to find a resaonable estimate of the threshold for generating the binary image which is good enough for the Hough transform to extract lines. Please discuss the effect of the threshold on the performance of the algorithm.\n",
    "\n",
    "Plot the Accumulator Array using the matplotlib function, figure size (20, 20), with proper labeling and title. The image should be saved as <b>Smooth_Clean_Image_Accumulator_Array.png</b> in results directory."
   ]
  },
  {
   "cell_type": "code",
   "execution_count": null,
   "metadata": {},
   "outputs": [],
   "source": [
    "# Invoke the Hough Transform Method to Extract the Lines from the Image\n",
    "# You need to find a resaonable estimate of the threshold for generating a binary image\n",
    "# which is good enough for the Hough transform to extract the lines\n",
    "# To expedite the process you can play with the resolution of the theta and rho \n",
    "# without compromising the quality of the results\n",
    "\n",
    "smooth_accumulator, smooth_thetas, smooth_rhos, smooth_binary_img = hough_transform(\n",
    "    smooth_img_gray_edge, threshold, theta_res, rho_res\n",
    ")\n",
    "\n",
    "# Save the Thresholded Binary Image\n",
    "cv.imwrite('../results/Ques_1/Smooth_Clean_Binary_Image.png', smooth_binary_img)\n",
    "\n",
    "# Plot the Binary Image\n",
    "plt.figure()\n",
    "plt.imshow(smooth_binary_img.astype(np.uint8), cmap='gray')\n",
    "plt.title('Binary Image')\n",
    "\n",
    "# Plot Accumulator Array\n",
    "############################\n",
    "# TO DO: Your Implementation\n",
    "############################\n",
    "\n",
    "############################\n",
    "# Your Implementation ENDS here\n",
    "############################"
   ]
  },
  {
   "cell_type": "code",
   "execution_count": null,
   "metadata": {},
   "outputs": [],
   "source": [
    "# Plot the Lines extracted on the Smooth Image\n",
    "# Play with the Accumulator Thresholding to get rid of the unwanted lines\n",
    "\n",
    "plot_lines(\n",
    "    '../results/Ques_1/proj2-clean-image-smoothed.png',\n",
    "    smooth_accumulator,\n",
    "    smooth_thetas,\n",
    "    smooth_rhos,\n",
    "    acc_threshold,\n",
    "    save_path='../results/Ques_1/Smooth_Clean_Image_Output_Lines.png'\n",
    ")"
   ]
  },
  {
   "cell_type": "markdown",
   "metadata": {},
   "source": [
    "#### 1.4 Hough Transform to detect Edges\n",
    "\n",
    "Plot the Edges instead of Lines (infinite) along the boundary of the pens.\n",
    "\n",
    "you should use the OpenCV <b>line</b> function which can hold all the edges and you could then overlay them on the input image.\n",
    "\n",
    "**Hint:** You can use bitwise operator to find intersections between grayscale images and the drawn lines."
   ]
  },
  {
   "cell_type": "code",
   "execution_count": null,
   "metadata": {},
   "outputs": [],
   "source": [
    "def plot_edges(img_path, accumulator, thetas, rhos, acc_threshold, binary_image, save_path):\n",
    "    '''\n",
    "    This function plots edges along the boundary of the pens.\n",
    "\n",
    "    Input:\n",
    "    1. RGB image path for plotting edges\n",
    "    2. Accumulator array\n",
    "    3. Vector of the angle values (thetas)\n",
    "    4. Vector of the rho values (rhos)\n",
    "    5. Threshold value for selecting edges from the accumulator\n",
    "    6. Binary image (detected edges)\n",
    "    7. Path to save the image with edges drawn\n",
    "\n",
    "    Output:\n",
    "    Returns nothing; saves the output image to save_path.\n",
    "    '''\n",
    "    ############################\n",
    "    # TO DO: Your Implementation\n",
    "    raise NotImplementedError(\"plot_edges() function needs to be implemented.\")\n",
    "    ############################\n",
    "    # Your Implementation ENDS here\n",
    "    ############################"
   ]
  },
  {
   "cell_type": "code",
   "execution_count": null,
   "metadata": {},
   "outputs": [],
   "source": [
    "# Plot the Boundaries of the Pen on the Real Image\n",
    "# This unlike the previous result is restricted to a finite length line\n",
    "# Play with the Accumulator Thresholding to get rid of the unwanted lines\n",
    "\n",
    "plot_edges(\n",
    "    '../data/proj2-clean-image.jpg',\n",
    "    ori_accumulator,\n",
    "    ori_thetas,\n",
    "    ori_rhos,\n",
    "    acc_threshold,\n",
    "    ori_binary_img,\n",
    "    save_path='../results/Ques_1/Ori_Clean_Image_Output_Edges.png'\n",
    ")"
   ]
  },
  {
   "cell_type": "code",
   "execution_count": null,
   "metadata": {},
   "outputs": [],
   "source": [
    "# Plot the Boundaries of the Pen on the Smooth Image\n",
    "# This unlike the previous result is restricted to a finite length line\n",
    "# Play with the Accumulator Thresholding to get rid of the unwanted lines\n",
    "\n",
    "plot_edges(\n",
    "    '../results/Ques_1/proj2-clean-image-smoothed.png',\n",
    "    smooth_accumulator,\n",
    "    smooth_thetas,\n",
    "    smooth_rhos,\n",
    "    acc_threshold,\n",
    "    smooth_binary_img,\n",
    "    save_path='../results/Ques_1/Smooth_Clean_Image_Output_Edges.png'\n",
    ")"
   ]
  },
  {
   "cell_type": "markdown",
   "metadata": {},
   "source": [
    "### 2. Hough Transform to detect Circles (12 points)\n",
    "In this exercise you are expected to implement Hough Transform for circle detection in images as discussed in class. Hough Transform uses an accumulator array to capture the circles present in image. As a circle could be defined with three parametrs, center (along X and Y axis) and radius, we need a three-dimensional accumulator to store the circle information.\n",
    "\n",
    "#### Tasks:\n",
    "1. Hough Transform to detect circles from the Images <b>(8 points)</b>\n",
    "2. Plot the detected circles on the corresponding images <b>(4 points)</b>\n",
    "\n",
    "You need to perform the task on the <b>Original Image</b> and <b>Smooth Image</b> computed earlier.\n",
    "\n",
    "It is applied on <b>binary images</b> which can be generated by thresholding the edge detector output.<br>\n",
    "You should use the result of the previous edge detection task as input for this exercise.\n",
    "\n",
    "<b>The center of the circle should be computed using the parametric equations.</b>"
   ]
  },
  {
   "cell_type": "code",
   "execution_count": null,
   "metadata": {},
   "outputs": [],
   "source": [
    "def circle_hough_transform(input_img, threshold, min_radius, max_radius, radius_res, angle_res):\n",
    "    '''\n",
    "    This function computes the accumulator array with the circles\n",
    "    detected in the image\n",
    "\n",
    "    Input:\n",
    "    1. Output of the Edge Detection Method\n",
    "    2. Threshold value for generating the binary image\n",
    "    3. Min Radius of the Circle to be detected\n",
    "    4. Max Radius of the Circle to be detected\n",
    "    5. Resolution for Circle Radius\n",
    "    6. Angle resolution for parametric equation of circle\n",
    "\n",
    "    Output:\n",
    "    1. Accumulator array       , declare as accumulator\n",
    "    2. Array for Circle Center , declare as center_x_vector, center_y_vector\n",
    "    3. Array for Radius of Circle , declare as radius_vector\n",
    "    4. Thresholded Binary Image   , declare as binary_img\n",
    "    '''\n",
    "    ############################\n",
    "    # TO DO: Your Implementation\n",
    "    ############################\n",
    "    raise NotImplementedError(\"circle_hough_transform() function needs to be implemented.\")\n",
    "    ############################\n",
    "    # Your Implementation ENDS here\n",
    "    ############################\n",
    "\n",
    "    return accumulator, radius_vector, center_x_vector, center_y_vector, binary_img"
   ]
  },
  {
   "cell_type": "markdown",
   "metadata": {},
   "source": [
    "#### 2.1.1 Hough Transform to detect Circles from the Original Image\n",
    "\n",
    "Use the edges detected from the <b>original input image</b> to apply Hough Transform function.<br>\n",
    "\n",
    "You need to find a resaonable estimate of the threshold for generating the binary image which is good enough for the Hough transform to extract circles. Please discuss the effect of the threshold on the performance of the algorithm.\n",
    "\n",
    "##### Please note that you should be able to extract atleast 7 coins. This ensures 75% of the credit."
   ]
  },
  {
   "cell_type": "code",
   "execution_count": null,
   "metadata": {},
   "outputs": [],
   "source": [
    "# Invoke the Hough Transform Method to Extract the Circles from the Image\n",
    "# To expedite the process you can play with the resolution parameters \n",
    "# without compromising the quality of the results\n",
    "\n",
    "ori_circle_accumulator, ori_circle_radius_vector, ori_circle_center_x_vector, ori_circle_center_y_vector, ori_circle_img_bin = circle_hough_transform(\n",
    "    img_gray_edge, threshold, min_radius, max_radius, radius_res, angle_res\n",
    ")\n",
    "\n",
    "# Save the Thresholded Binary Image\n",
    "cv.imwrite('../results/Ques_2/Ori_Clean_Binary_Image_Circle_Detection.png', ori_circle_img_bin)\n",
    "\n",
    "# Plot the Binary Image\n",
    "plt.figure()\n",
    "plt.imshow(ori_circle_img_bin.astype(np.uint8), cmap='gray')\n",
    "plt.title('Binary Image - Circle Detection (Original Image)')\n",
    "plt.axis('off')"
   ]
  },
  {
   "cell_type": "markdown",
   "metadata": {},
   "source": [
    "#### 2.1.2 Hough Transform to detect Circles from the Smooth Image\n",
    "\n",
    "Use the edges detected from the <b>smooth input image</b> to apply Hough Transform function or generate a suitable smooth image (following the same procedure) for this exercise to detect coins. If you generate a new smooth image please save the generated image as <b>proj2-clean-image-smoothed-circle-detection.png</b>.<br>\n",
    "\n",
    "You should explain the reason for generating a new smooth image, report the value of sigma and discuss its effect on the performance of the circle detection algorithm.<br>\n",
    "<br>\n",
    "You need to find a resaonable estimate of the threshold for generating the binary image\n",
    "which is good enough for the Hough transform to extract circles. Please discuss the effect of the threshold on the performance of the algorithm.<br>\n",
    "\n",
    "##### Please note that you should be able to extract atleast 7 coins. This ensures 75% of the credit."
   ]
  },
  {
   "cell_type": "code",
   "execution_count": null,
   "metadata": {},
   "outputs": [],
   "source": [
    "# Invoke the Hough Transform Method to Extract the Circles from the Image\n",
    "# You need to find a resaonable estimate of the threshold for generating a binary image\n",
    "# which is good enough for the Hough transform to extract circles\n",
    "# To expedite the process you can play with the resolution parameters \n",
    "# without compromising the quality of the results\n",
    "\n",
    "smooth_circle_accumulator, smooth_circle_radius_vector, smooth_circle_center_x_vector, smooth_circle_center_y_vector, smooth_circle_img_bin = circle_hough_transform(\n",
    "    smooth_img_gray_edge, threshold, min_radius, max_radius, radius_res, angle_res\n",
    ")\n",
    "\n",
    "# Save the Thresholded Binary Image\n",
    "cv.imwrite('../results/Ques_2/Smooth_Clean_Binary_Image_Circle_Detection.png', smooth_circle_img_bin)\n",
    "\n",
    "# Plot the Binary Image\n",
    "plt.figure()\n",
    "plt.imshow(smooth_circle_img_bin.astype(np.uint8), cmap='gray')\n",
    "plt.title('Binary Image - Circle Detection (Smooth Image)')\n",
    "plt.axis('off')"
   ]
  },
  {
   "cell_type": "markdown",
   "metadata": {},
   "source": [
    "#### 2.2 Plot the Circles around the coins in the image\n",
    "You should use the OpenCV <b>circle</b> function for drawing circles. This can hold all the circles and then you could overlay them on the input image."
   ]
  },
  {
   "cell_type": "code",
   "execution_count": null,
   "metadata": {},
   "outputs": [],
   "source": [
    "def plot_circles(img_path, accumulator, radius_vector, center_x_vector, center_y_vector, acc_threshold, bin_image, img_save_path):\n",
    "    '''\n",
    "    This function plots circles\n",
    "    This should be used to draw circles around the coins in the image\n",
    "\n",
    "    Input:\n",
    "    1. RGB Image for plotting circles\n",
    "    2. Accumulator array\n",
    "    3. Vector of the radius values\n",
    "    4. Vector of the center of the circle\n",
    "    5. Threshold value for selecting circles from the accumulator\n",
    "    6. Path to save the image with circles drawn on them\n",
    "\n",
    "    Output:\n",
    "    Returns Nothing\n",
    "    Saves the output image in img_save_path\n",
    "    '''\n",
    "\n",
    "    ############################\n",
    "    # TO DO: Your Implementation\n",
    "    ############################\n",
    "    raise NotImplementedError(\"plot_circles() needs to be implemented by the student.\")\n",
    "    ############################\n",
    "    # Your Implementation ENDS here\n",
    "    ############################\n",
    "\n",
    "    # All the changes made in the input image are finally\n",
    "    # written on a new file\n",
    "    cv.imwrite(img_save_path, cv_img)"
   ]
  },
  {
   "cell_type": "markdown",
   "metadata": {},
   "source": [
    "#### 2.2.1 Plot the Circles around the coins in the Original Image\n",
    "\n",
    "Play with the Accumulator Thresholding to get rid of unwanted circles.\n"
   ]
  },
  {
   "cell_type": "code",
   "execution_count": null,
   "metadata": {},
   "outputs": [],
   "source": [
    "# Plot the Circles extracted on the Original Image\n",
    "plot_circles(\n",
    "    '../data/proj2-clean-image.jpg',\n",
    "    ori_circle_accumulator,\n",
    "    ori_circle_radius_vector,\n",
    "    ori_circle_center_x_vector,\n",
    "    ori_circle_center_y_vector,\n",
    "    acc_threshold,\n",
    "    ori_circle_img_bin,\n",
    "    '../results/Ques_2/Ori_Clean_Image_Output_Circles.png'\n",
    ")"
   ]
  },
  {
   "cell_type": "markdown",
   "metadata": {},
   "source": [
    "#### 2.2.2 Plot the Circles around the coins in the Smooth Image\n",
    "\n",
    "Play with the Accumulator Thresholding to get rid of unwanted circles.\n"
   ]
  },
  {
   "cell_type": "code",
   "execution_count": null,
   "metadata": {},
   "outputs": [],
   "source": [
    "# Plot the Circles extracted on the Smooth Image\n",
    "plot_circles(\n",
    "    '../results/Ques_1/proj2-clean-image-smoothed.png',\n",
    "    smooth_circle_accumulator,\n",
    "    smooth_circle_radius_vector,\n",
    "    smooth_circle_center_x_vector,\n",
    "    smooth_circle_center_y_vector,\n",
    "    acc_threshold,\n",
    "    smooth_circle_img_bin,\n",
    "    '../results/Ques_2/Smooth_Clean_Image_Output_Circles.png'\n",
    ")"
   ]
  },
  {
   "cell_type": "markdown",
   "metadata": {},
   "source": [
    "### 3 Hough Transform to detect Lines from Cluttered Image (15 points)\n",
    "In this exercise you are expected to implement Hough Transform for line detection from cluttered image. Hough Transform uses an accumulator array to capture the lines present in image. It is applied on binary images which can be generated by thresholding the edge detector output.\n",
    "\n",
    "#### Tasks:\n",
    "1. Smooth the given image using the Gaussian Filter. Determine the Gaussian filter and comment on its effect in determining the lines. Save the smooth image as <b>clutter_smooth_img</b>, numpy array. <b>(2 points)</b>\n",
    "2. Identify the edges in the smooth image, generated in the previous step. You can use the solution of <b>Ques 1.2</b>. Save the numpy array as <b>clutter_smooth_img_gray_edge</b>. <b>(2 points)</b>\n",
    "3. Identify the lines in the Image using Hough Transform. <b>(2 points)</b>\n",
    "4. Draw the detected lines. <b>(2 points)</b>\n",
    "5. Likely the last produced several lines which DO NOT repesent the boundary of the pens. How do you take care of the probem? <b>(2 points)</b>\n",
    "6. Find the lines which represents only the boundary of the pens. <b>(5 points)</b>"
   ]
  },
  {
   "cell_type": "markdown",
   "metadata": {},
   "source": [
    "#### 3.1 Smooth the given image using the Gaussian Filter. Determine the Gaussian filter and comment on its effect in determining the lines. Save the smooth image as clutter_smooth_img, numpy array."
   ]
  },
  {
   "cell_type": "code",
   "execution_count": null,
   "metadata": {},
   "outputs": [],
   "source": [
    "# Reading the Input Image\n",
    "clutter_img = cv.imread('../data/proj2-clutter-image.jpg')\n",
    "\n",
    "############################\n",
    "# TO DO: Your Implementation\n",
    "############################\n",
    "\n",
    "############################\n",
    "# Your Implementation ENDS here\n",
    "############################\n",
    "\n",
    "# Saves the Smooth Image in the result directory\n",
    "cv.imwrite(\"../results/Ques_3/clutter_smooth_img.png\", clutter_smooth_img)\n",
    "\n",
    "# Plots the smoothed image in the notebook\n",
    "plt.figure()\n",
    "plt.imshow(clutter_smooth_img.astype(np.uint8), cmap='gray')"
   ]
  },
  {
   "cell_type": "markdown",
   "metadata": {},
   "source": [
    "#### 3.2 Identify the edges in the smooth image, generated in the previous step. You can use the solution of Ques 1.2. Save the numpy array as clutter_smooth_img_gray_edge."
   ]
  },
  {
   "cell_type": "code",
   "execution_count": null,
   "metadata": {},
   "outputs": [],
   "source": [
    "############################\n",
    "# TO DO: Your Implementation\n",
    "############################\n",
    "\n",
    "############################\n",
    "# Your Implementation ENDS here\n",
    "############################\n",
    "\n",
    "# Save the Image\n",
    "cv.imwrite('../results/Ques_3/clutter_smooth_img_gray_edge.png', clutter_smooth_img_gray_edge)\n",
    "\n",
    "# Plot the Image\n",
    "plt.figure()\n",
    "plt.imshow(clutter_smooth_img_gray_edge.astype(np.uint8), cmap='gray')"
   ]
  },
  {
   "cell_type": "markdown",
   "metadata": {},
   "source": [
    "#### 3.3 Identify the lines in the Image using Hough Transform"
   ]
  },
  {
   "cell_type": "code",
   "execution_count": null,
   "metadata": {},
   "outputs": [],
   "source": [
    "# Invoke the Hough Transform Method to Extract the Lines from the Image\n",
    "# You need to find a reasonable estimate of the threshold for generating a binary image\n",
    "# which is good enough for the Hough transform to extract the lines\n",
    "# To expedite the process you can play with the resolution of the theta and rho \n",
    "# without compromising the quality of the results\n",
    "\n",
    "clutter_smooth_accumulator, clutter_smooth_thetas, clutter_smooth_rhos, clutter_smooth_binary_img = hough_transform(\n",
    "    clutter_smooth_img_gray_edge, threshold, theta_res, rho_res\n",
    ")\n",
    "\n",
    "# Save the Thresholded Binary Image\n",
    "cv.imwrite('../results/Ques_3/Clutter_Smooth_Binary_Image.png', clutter_smooth_binary_img)\n",
    "\n",
    "# Plot the Binary Image\n",
    "plt.figure()\n",
    "plt.imshow(clutter_smooth_binary_img.astype(np.uint8), cmap='gray')\n",
    "plt.title('Binary Image')"
   ]
  },
  {
   "cell_type": "markdown",
   "metadata": {},
   "source": [
    "#### 3.4 Draw the detected lines"
   ]
  },
  {
   "cell_type": "code",
   "execution_count": null,
   "metadata": {},
   "outputs": [],
   "source": [
    "# Plot the Lines extracted on the Cluttered Smooth Image\n",
    "# Play with the Accumulator Thresholding to get rid of the unwanted lines\n",
    "\n",
    "plot_lines(\n",
    "    '../results/Ques_3/Clutter_Smooth_Binary_Image.png',\n",
    "    clutter_smooth_accumulator,\n",
    "    clutter_smooth_thetas,\n",
    "    clutter_smooth_rhos,\n",
    "    acc_threshold,\n",
    "    save_path='../results/Ques_3/Clutter_Smooth_Image_Output_Lines.png'\n",
    ")"
   ]
  },
  {
   "cell_type": "markdown",
   "metadata": {},
   "source": [
    "#### 3.5 Most likely the last exercise produced several lines which DO NOT repesent the boundaries of the pens. How do you take care of the probem? Discuss."
   ]
  },
  {
   "cell_type": "markdown",
   "metadata": {},
   "source": [
    "#### 3.6 Find the edges which represents only the boundaries of the pens and plot it on the smooth version of the clutter image. \n",
    "You need to write a function similar to plot_edges() (but NOT the same).  You will need to check the length of each segment of the line and select only the ones that are above a certain threshold length.  \n",
    "\n",
    "Save the output image as <b>'../results/Ques_3/Clutter_Smooth_Image_Output_Edges.png'</b>"
   ]
  },
  {
   "cell_type": "code",
   "execution_count": null,
   "metadata": {},
   "outputs": [],
   "source": [
    "##############################\n",
    "# TO DO: Your Implementation\n",
    "##############################\n",
    "\n",
    "################################\n",
    "# Your Implementation ENDS here\n",
    "################################"
   ]
  },
  {
   "cell_type": "markdown",
   "metadata": {},
   "source": [
    "### 4. Hough Transform to detect Circles from Cluttered Image (17 points)\n",
    "In this exercise you are expected to implement Hough Transform for detecting circles from cluttered image. Hough Transform is applied on binary images which can be generated by thresholding the edge detector output.\n",
    "\n",
    "#### Tasks:\n",
    "1. Smooth the given image using the Gaussian Filter. Determine the Gaussian filter and comment on its effect in determining the circles. Save the smooth image as <b>clutter_smooth_img_circle_detection</b>, numpy array. <b>(2 points)</b>\n",
    "2. Identify the edges in the smooth image, generated in the previous step. You can use the solution of <b>Ques 1.2</b>. Save the numpy array as <b>clutter_smooth_img_gray_edge_circle_detection</b>. <b>(2 points)</b>\n",
    "3. Identify the circles in the Image using Hough Transform. <b>(2 points)</b>\n",
    "4. Draw the detected circles. <b>(2 points)</b>\n",
    "5. Did the last solution detect any unwanted circles? If yes, please explain the reason. Which parameters you feel are affecting the result. Moreover, what could be the correct measures to prevent this? <b>(5 points)</b>\n",
    "6. You are required to find boundaries around atleast 8 coins in the image. <b>(4 points)</b>"
   ]
  },
  {
   "cell_type": "markdown",
   "metadata": {},
   "source": [
    "#### 4.1 Smooth the given image using the Gaussian Filter. Determine the Gaussian filter and comment on its effect in determining the circles. Save the smooth image as <b>clutter_smooth_img_circle_detection</b>, numpy array."
   ]
  },
  {
   "cell_type": "code",
   "execution_count": null,
   "metadata": {},
   "outputs": [],
   "source": [
    "# Reading the Input Image\n",
    "clutter_img_circle_detection = cv.imread('../data/proj2-clutter-image.jpg')\n",
    "\n",
    "##############################\n",
    "# TO DO: Your Implementation\n",
    "# Apply Gaussian filter on clutter_img_circle_detection \n",
    "# to generate clutter_smooth_img_circle_detection\n",
    "raise NotImplementedError(\"Apply Gaussian filter for circle detection preprocessing\")\n",
    "##############################\n",
    "\n",
    "################################\n",
    "# Your Implementation ENDS here\n",
    "################################\n",
    "\n",
    "# Save the Smooth Image in the result directory\n",
    "cv.imwrite(\"../results/Ques_4/proj2-clutter-image-smoothed_circle_detection.png\", clutter_smooth_img_circle_detection)\n",
    "\n",
    "# Plot the smoothed image in the notebook\n",
    "plt.figure(); plt.imshow(clutter_smooth_img_circle_detection.astype(np.uint8), cmap='gray');"
   ]
  },
  {
   "cell_type": "markdown",
   "metadata": {},
   "source": [
    "#### 4.2 Identify the circles in the smooth image, generated in the previous step. You can use the solution of <b>Ques 1.2</b>. \n",
    "Save the numpy array as <b>clutter_smooth_img_gray_edge_circle_detection</b>."
   ]
  },
  {
   "cell_type": "code",
   "execution_count": null,
   "metadata": {},
   "outputs": [],
   "source": [
    "##############################\n",
    "# TO DO: Your Implementation\n",
    "# Detect edges from clutter_smooth_img_circle_detection\n",
    "# Save the result in clutter_smooth_img_gray_edge_circle_detection\n",
    "raise NotImplementedError(\"Edge detection for circle detection preprocessing\")\n",
    "##############################\n",
    "\n",
    "################################\n",
    "# Your Implementation ENDS here\n",
    "################################\n",
    "\n",
    "# Save the Edge Image\n",
    "cv.imwrite('../results/Ques_4/Smooth_Clutter_Edge_Image_Circle_Detection.png', clutter_smooth_img_gray_edge_circle_detection)\n",
    "\n",
    "# Plot the Edge Image\n",
    "plt.figure(); plt.imshow(clutter_smooth_img_gray_edge_circle_detection.astype(np.uint8), cmap='gray');"
   ]
  },
  {
   "cell_type": "markdown",
   "metadata": {},
   "source": [
    "#### 4.3 Identify the circles in the Image using Hough Transform"
   ]
  },
  {
   "cell_type": "code",
   "execution_count": null,
   "metadata": {},
   "outputs": [],
   "source": [
    "# Invoke the Hough Transform Method to Extract the Circles from the Image\n",
    "# You need to find a reasonable estimate of the threshold for generating a binary image\n",
    "# which is good enough for the Hough transform to extract circles\n",
    "# To expedite the process you can play with the resolution parameters \n",
    "# without compromising the quality of the results\n",
    "\n",
    "clutter_smooth_circle_accumulator, clutter_smooth_circle_radius_vector, clutter_smooth_circle_center_x_vector, clutter_smooth_circle_center_y_vector, clutter_smooth_circle_img_bin = circle_hough_transform(\n",
    "    clutter_smooth_img_gray_edge_circle_detection, threshold, min_radius, max_radius, radius_res, angle_res\n",
    ")\n",
    "\n",
    "# Save the Thresholded Binary Image\n",
    "cv.imwrite('../results/Ques_4/Smooth_Clutter_Binary_Image_Circle_Detection.png', clutter_smooth_circle_img_bin)\n",
    "\n",
    "# Plot the Binary Image\n",
    "plt.figure(); plt.imshow(clutter_smooth_circle_img_bin.astype(np.uint8), cmap='gray'); plt.title('Binary Image for Circle Detection')"
   ]
  },
  {
   "cell_type": "markdown",
   "metadata": {},
   "source": [
    "#### 4.4 Draw the detected circles"
   ]
  },
  {
   "cell_type": "code",
   "execution_count": null,
   "metadata": {},
   "outputs": [],
   "source": [
    "# Plot the Circles extracted on the Smooth Image\n",
    "\n",
    "plot_circles(\n",
    "    '../results/Ques_4/proj2-clutter-image-smoothed_circle_detection.png',\n",
    "    clutter_smooth_circle_accumulator,\n",
    "    clutter_smooth_circle_radius_vector,\n",
    "    clutter_smooth_circle_center_x_vector,\n",
    "    clutter_smooth_circle_center_y_vector,\n",
    "    acc_threshold,\n",
    "    clutter_smooth_circle_img_bin,\n",
    "    '../results/Ques_4/Smooth_Clutter_Image_Output_Circles.png'\n",
    ")\n",
    "\n",
    "plt.title('Detected Circles on Smooth Clutter Image')"
   ]
  },
  {
   "cell_type": "markdown",
   "metadata": {},
   "source": [
    "#### 4.5 Did the last solution detect any unwanted circles? If yes, please explain the reason. Which parameters you feel are affecting the result. Moreover, what could be the correct measures to prevent this?"
   ]
  },
  {
   "cell_type": "markdown",
   "metadata": {},
   "source": [
    "#### 4.6 Devise some mechanisms such that you can find boundaries of at least 8 coins in the image"
   ]
  },
  {
   "cell_type": "code",
   "execution_count": null,
   "metadata": {},
   "outputs": [],
   "source": [
    "##############################\n",
    "# TO DO: Your Implementation\n",
    "##############################\n",
    "\n",
    "\n",
    "\n",
    "################################\n",
    "# Your Implementation ENDS here\n",
    "################################"
   ]
  },
  {
   "cell_type": "markdown",
   "metadata": {},
   "source": [
    "### 5 Test Robustness to Noise (15 points)\n",
    "In this exercise, we test the robustness of Hough Transform to Gaussian noise.<br>\n",
    "For this experiment, consider the optimum setting of the parameters (like sigma for smoothing, threshold for binary image, threshold for accumulator and others) for both line and circle detection using Hough Transform.<br>\n",
    "\n",
    "Then keep adding Gaussian noise to the clutter image, <b>proj2-clutter-image.jpg</b>, starting with sigma value of 5.0 and doubling the sigma at every step, until the detection of lines and circles substantially fails. Mark this value as the of sigma as the failure sigma value.<br>\n",
    "\n",
    "Between the starting sigma value i.e., 5.0 and the failure sigma value, show sequence of 5 images (equally spaced as per the number of steps) with the detected lines and circles drawn on them where each image represents different sigma value for the Gaussian noise.<br>\n",
    "\n",
    "With failure sigma value as noise parameter, generate the noisy image and determine a smoothing filter (Gaussian filter as used earlier) to detect lines and circles from the noisy image. Do not change any other parameters used for extraction of lines and circles.\n",
    "\n",
    "#### Task\n",
    "1. Starting with sigma value of 5.0 and doubling the sigma at every step determine the sigma when the line and circle detection using Hough Transform fails. (The transition should be like 5->10->20->40->80 etc.)<b>(7 points)</b>\n",
    "2. Plot sequence of 5 images (equally spaced as per the number of steps) with the detected lines or circles drawn on them where each image represents different sigma value for the Gaussian noise. Save the output images separately for circles and lines with the corresponding sigma values. <b>(5 points)</b>\n",
    "3. Generate a smoothing filter that can handle the maximum noise and help in the detection of lines and circles from the noisy image. Keep the other parameters similar. Save the output images for circles and lines separately. <b>(3 points)</b>\n",
    "\n",
    "#### Results:\n",
    "All the output images should be saved in the directory <b>results/Ques_5/</b> with a meaningful name (as used in previous questions). Use the <b>imwrite</b> function in OpenCV library for saving images. You should use the OpenCV <b>line</b> and <b>circle</b> function to draw lines and circles respectively.  Make sure to save the noisy and filtered images you are generating.  "
   ]
  },
  {
   "cell_type": "code",
   "execution_count": null,
   "metadata": {},
   "outputs": [],
   "source": []
  },
  {
   "cell_type": "markdown",
   "metadata": {},
   "source": [
    "### 6 Hough Transform to detect Lines and Circles from a Distorted Image (15 points)\n",
    "In this exercise you should use your Hough Transform implementation to try and detect lines and circles from the distorted image, <b>proj2-foreshortened-image.jpg</b>. Load the image from the data directory to do all the procesing to extract the lines and circles.\n",
    "\n",
    "\n",
    "#### Tasks:\n",
    "1. Plot the edges of the pens and boundaries of the coins, using the functions defined in the previous questions <b>(5 points)</b>\n",
    "3. How many of the lines and edges in the image did your Hough transform detect? How many additional lines and circles do you see that weren't detected? What differences in appearance, shape, etc. do you notice between those that were and weren't detected? <b>(5 points)</b>\n",
    "4. Discuss what changes to the alogirhtm you think could help in making the missed lines and circles visible? <b>(5 points)</b>\n",
    "\n",
    "#### Results:\n",
    "All the output images should be saved in the directory <b>results/Ques_6/</b> with a meaningful name (as used in previous questions). Use the <b>imwrite</b> function in OpenCV library for saving images. You should use the OpenCV <b>line</b> and <b>circle</b> function to draw lines and circles respectively."
   ]
  },
  {
   "cell_type": "code",
   "execution_count": null,
   "metadata": {},
   "outputs": [],
   "source": []
  }
 ],
 "metadata": {
  "kernelspec": {
   "display_name": "Python 3 (ipykernel)",
   "language": "python",
   "name": "python3"
  },
  "language_info": {
   "codemirror_mode": {
    "name": "ipython",
    "version": 3
   },
   "file_extension": ".py",
   "mimetype": "text/x-python",
   "name": "python",
   "nbconvert_exporter": "python",
   "pygments_lexer": "ipython3",
   "version": "3.8.20"
  }
 },
 "nbformat": 4,
 "nbformat_minor": 4
}
